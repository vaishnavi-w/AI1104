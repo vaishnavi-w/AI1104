{
 "cells": [
  {
   "cell_type": "code",
   "execution_count": 1,
   "id": "21a551b2",
   "metadata": {},
   "outputs": [],
   "source": [
    "# AI1104 - PROGRAMMING FOR AI PROJECT \n",
    "# Author : Vaishnavi W - AI20BTECH11025\n",
    "\n",
    "####################################################################\n",
    "\n",
    "# Goal : Use machine learning to create a model that predicts which passengers survived the Titanic shipwreck.\n",
    "# Data : https://www.kaggle.com/c/titanic/code\n",
    "# Approach : K-Nearest Neighbours\n",
    "\n",
    "####################################################################"
   ]
  },
  {
   "cell_type": "code",
   "execution_count": 2,
   "id": "dfd10791",
   "metadata": {
    "scrolled": true
   },
   "outputs": [],
   "source": [
    "# Importing necessary libraries\n",
    "\n",
    "import numpy as np\n",
    "import pandas as pd\n",
    "import seaborn as sb\n",
    "\n",
    "from sklearn.metrics import accuracy_score\n",
    "from sklearn.model_selection import train_test_split\n",
    "from sklearn.neighbors import KNeighborsClassifier\n",
    "from matplotlib import pyplot as plt"
   ]
  },
  {
   "cell_type": "code",
   "execution_count": 3,
   "id": "55d6bcaa",
   "metadata": {},
   "outputs": [],
   "source": [
    "# Upload CSV train and test files\n",
    "\n",
    "train = pd.read_csv('./train.csv')\n",
    "test = pd.read_csv('./test.csv')"
   ]
  },
  {
   "cell_type": "code",
   "execution_count": 4,
   "id": "353ce41a",
   "metadata": {},
   "outputs": [
    {
     "data": {
      "text/html": [
       "<div>\n",
       "<style scoped>\n",
       "    .dataframe tbody tr th:only-of-type {\n",
       "        vertical-align: middle;\n",
       "    }\n",
       "\n",
       "    .dataframe tbody tr th {\n",
       "        vertical-align: top;\n",
       "    }\n",
       "\n",
       "    .dataframe thead th {\n",
       "        text-align: right;\n",
       "    }\n",
       "</style>\n",
       "<table border=\"1\" class=\"dataframe\">\n",
       "  <thead>\n",
       "    <tr style=\"text-align: right;\">\n",
       "      <th></th>\n",
       "      <th>PassengerId</th>\n",
       "      <th>Survived</th>\n",
       "      <th>Pclass</th>\n",
       "      <th>Name</th>\n",
       "      <th>Sex</th>\n",
       "      <th>Age</th>\n",
       "      <th>SibSp</th>\n",
       "      <th>Parch</th>\n",
       "      <th>Ticket</th>\n",
       "      <th>Fare</th>\n",
       "      <th>Cabin</th>\n",
       "      <th>Embarked</th>\n",
       "    </tr>\n",
       "  </thead>\n",
       "  <tbody>\n",
       "    <tr>\n",
       "      <th>0</th>\n",
       "      <td>1</td>\n",
       "      <td>0</td>\n",
       "      <td>3</td>\n",
       "      <td>Braund, Mr. Owen Harris</td>\n",
       "      <td>male</td>\n",
       "      <td>22.0</td>\n",
       "      <td>1</td>\n",
       "      <td>0</td>\n",
       "      <td>A/5 21171</td>\n",
       "      <td>7.2500</td>\n",
       "      <td>NaN</td>\n",
       "      <td>S</td>\n",
       "    </tr>\n",
       "    <tr>\n",
       "      <th>1</th>\n",
       "      <td>2</td>\n",
       "      <td>1</td>\n",
       "      <td>1</td>\n",
       "      <td>Cumings, Mrs. John Bradley (Florence Briggs Th...</td>\n",
       "      <td>female</td>\n",
       "      <td>38.0</td>\n",
       "      <td>1</td>\n",
       "      <td>0</td>\n",
       "      <td>PC 17599</td>\n",
       "      <td>71.2833</td>\n",
       "      <td>C85</td>\n",
       "      <td>C</td>\n",
       "    </tr>\n",
       "    <tr>\n",
       "      <th>2</th>\n",
       "      <td>3</td>\n",
       "      <td>1</td>\n",
       "      <td>3</td>\n",
       "      <td>Heikkinen, Miss. Laina</td>\n",
       "      <td>female</td>\n",
       "      <td>26.0</td>\n",
       "      <td>0</td>\n",
       "      <td>0</td>\n",
       "      <td>STON/O2. 3101282</td>\n",
       "      <td>7.9250</td>\n",
       "      <td>NaN</td>\n",
       "      <td>S</td>\n",
       "    </tr>\n",
       "    <tr>\n",
       "      <th>3</th>\n",
       "      <td>4</td>\n",
       "      <td>1</td>\n",
       "      <td>1</td>\n",
       "      <td>Futrelle, Mrs. Jacques Heath (Lily May Peel)</td>\n",
       "      <td>female</td>\n",
       "      <td>35.0</td>\n",
       "      <td>1</td>\n",
       "      <td>0</td>\n",
       "      <td>113803</td>\n",
       "      <td>53.1000</td>\n",
       "      <td>C123</td>\n",
       "      <td>S</td>\n",
       "    </tr>\n",
       "    <tr>\n",
       "      <th>4</th>\n",
       "      <td>5</td>\n",
       "      <td>0</td>\n",
       "      <td>3</td>\n",
       "      <td>Allen, Mr. William Henry</td>\n",
       "      <td>male</td>\n",
       "      <td>35.0</td>\n",
       "      <td>0</td>\n",
       "      <td>0</td>\n",
       "      <td>373450</td>\n",
       "      <td>8.0500</td>\n",
       "      <td>NaN</td>\n",
       "      <td>S</td>\n",
       "    </tr>\n",
       "  </tbody>\n",
       "</table>\n",
       "</div>"
      ],
      "text/plain": [
       "   PassengerId  Survived  Pclass  \\\n",
       "0            1         0       3   \n",
       "1            2         1       1   \n",
       "2            3         1       3   \n",
       "3            4         1       1   \n",
       "4            5         0       3   \n",
       "\n",
       "                                                Name     Sex   Age  SibSp  \\\n",
       "0                            Braund, Mr. Owen Harris    male  22.0      1   \n",
       "1  Cumings, Mrs. John Bradley (Florence Briggs Th...  female  38.0      1   \n",
       "2                             Heikkinen, Miss. Laina  female  26.0      0   \n",
       "3       Futrelle, Mrs. Jacques Heath (Lily May Peel)  female  35.0      1   \n",
       "4                           Allen, Mr. William Henry    male  35.0      0   \n",
       "\n",
       "   Parch            Ticket     Fare Cabin Embarked  \n",
       "0      0         A/5 21171   7.2500   NaN        S  \n",
       "1      0          PC 17599  71.2833   C85        C  \n",
       "2      0  STON/O2. 3101282   7.9250   NaN        S  \n",
       "3      0            113803  53.1000  C123        S  \n",
       "4      0            373450   8.0500   NaN        S  "
      ]
     },
     "execution_count": 4,
     "metadata": {},
     "output_type": "execute_result"
    }
   ],
   "source": [
    "train.head()"
   ]
  },
  {
   "cell_type": "code",
   "execution_count": 5,
   "id": "a827de19",
   "metadata": {},
   "outputs": [
    {
     "data": {
      "text/html": [
       "<div>\n",
       "<style scoped>\n",
       "    .dataframe tbody tr th:only-of-type {\n",
       "        vertical-align: middle;\n",
       "    }\n",
       "\n",
       "    .dataframe tbody tr th {\n",
       "        vertical-align: top;\n",
       "    }\n",
       "\n",
       "    .dataframe thead th {\n",
       "        text-align: right;\n",
       "    }\n",
       "</style>\n",
       "<table border=\"1\" class=\"dataframe\">\n",
       "  <thead>\n",
       "    <tr style=\"text-align: right;\">\n",
       "      <th></th>\n",
       "      <th>PassengerId</th>\n",
       "      <th>Pclass</th>\n",
       "      <th>Name</th>\n",
       "      <th>Sex</th>\n",
       "      <th>Age</th>\n",
       "      <th>SibSp</th>\n",
       "      <th>Parch</th>\n",
       "      <th>Ticket</th>\n",
       "      <th>Fare</th>\n",
       "      <th>Cabin</th>\n",
       "      <th>Embarked</th>\n",
       "    </tr>\n",
       "  </thead>\n",
       "  <tbody>\n",
       "    <tr>\n",
       "      <th>0</th>\n",
       "      <td>892</td>\n",
       "      <td>3</td>\n",
       "      <td>Kelly, Mr. James</td>\n",
       "      <td>male</td>\n",
       "      <td>34.5</td>\n",
       "      <td>0</td>\n",
       "      <td>0</td>\n",
       "      <td>330911</td>\n",
       "      <td>7.8292</td>\n",
       "      <td>NaN</td>\n",
       "      <td>Q</td>\n",
       "    </tr>\n",
       "    <tr>\n",
       "      <th>1</th>\n",
       "      <td>893</td>\n",
       "      <td>3</td>\n",
       "      <td>Wilkes, Mrs. James (Ellen Needs)</td>\n",
       "      <td>female</td>\n",
       "      <td>47.0</td>\n",
       "      <td>1</td>\n",
       "      <td>0</td>\n",
       "      <td>363272</td>\n",
       "      <td>7.0000</td>\n",
       "      <td>NaN</td>\n",
       "      <td>S</td>\n",
       "    </tr>\n",
       "    <tr>\n",
       "      <th>2</th>\n",
       "      <td>894</td>\n",
       "      <td>2</td>\n",
       "      <td>Myles, Mr. Thomas Francis</td>\n",
       "      <td>male</td>\n",
       "      <td>62.0</td>\n",
       "      <td>0</td>\n",
       "      <td>0</td>\n",
       "      <td>240276</td>\n",
       "      <td>9.6875</td>\n",
       "      <td>NaN</td>\n",
       "      <td>Q</td>\n",
       "    </tr>\n",
       "    <tr>\n",
       "      <th>3</th>\n",
       "      <td>895</td>\n",
       "      <td>3</td>\n",
       "      <td>Wirz, Mr. Albert</td>\n",
       "      <td>male</td>\n",
       "      <td>27.0</td>\n",
       "      <td>0</td>\n",
       "      <td>0</td>\n",
       "      <td>315154</td>\n",
       "      <td>8.6625</td>\n",
       "      <td>NaN</td>\n",
       "      <td>S</td>\n",
       "    </tr>\n",
       "    <tr>\n",
       "      <th>4</th>\n",
       "      <td>896</td>\n",
       "      <td>3</td>\n",
       "      <td>Hirvonen, Mrs. Alexander (Helga E Lindqvist)</td>\n",
       "      <td>female</td>\n",
       "      <td>22.0</td>\n",
       "      <td>1</td>\n",
       "      <td>1</td>\n",
       "      <td>3101298</td>\n",
       "      <td>12.2875</td>\n",
       "      <td>NaN</td>\n",
       "      <td>S</td>\n",
       "    </tr>\n",
       "  </tbody>\n",
       "</table>\n",
       "</div>"
      ],
      "text/plain": [
       "   PassengerId  Pclass                                          Name     Sex  \\\n",
       "0          892       3                              Kelly, Mr. James    male   \n",
       "1          893       3              Wilkes, Mrs. James (Ellen Needs)  female   \n",
       "2          894       2                     Myles, Mr. Thomas Francis    male   \n",
       "3          895       3                              Wirz, Mr. Albert    male   \n",
       "4          896       3  Hirvonen, Mrs. Alexander (Helga E Lindqvist)  female   \n",
       "\n",
       "    Age  SibSp  Parch   Ticket     Fare Cabin Embarked  \n",
       "0  34.5      0      0   330911   7.8292   NaN        Q  \n",
       "1  47.0      1      0   363272   7.0000   NaN        S  \n",
       "2  62.0      0      0   240276   9.6875   NaN        Q  \n",
       "3  27.0      0      0   315154   8.6625   NaN        S  \n",
       "4  22.0      1      1  3101298  12.2875   NaN        S  "
      ]
     },
     "execution_count": 5,
     "metadata": {},
     "output_type": "execute_result"
    }
   ],
   "source": [
    "test.head()"
   ]
  },
  {
   "cell_type": "code",
   "execution_count": 6,
   "id": "5ced2d8a",
   "metadata": {},
   "outputs": [
    {
     "name": "stdout",
     "output_type": "stream",
     "text": [
      "<class 'pandas.core.frame.DataFrame'>\n",
      "RangeIndex: 891 entries, 0 to 890\n",
      "Data columns (total 12 columns):\n",
      " #   Column       Non-Null Count  Dtype  \n",
      "---  ------       --------------  -----  \n",
      " 0   PassengerId  891 non-null    int64  \n",
      " 1   Survived     891 non-null    int64  \n",
      " 2   Pclass       891 non-null    int64  \n",
      " 3   Name         891 non-null    object \n",
      " 4   Sex          891 non-null    object \n",
      " 5   Age          714 non-null    float64\n",
      " 6   SibSp        891 non-null    int64  \n",
      " 7   Parch        891 non-null    int64  \n",
      " 8   Ticket       891 non-null    object \n",
      " 9   Fare         891 non-null    float64\n",
      " 10  Cabin        204 non-null    object \n",
      " 11  Embarked     889 non-null    object \n",
      "dtypes: float64(2), int64(5), object(5)\n",
      "memory usage: 83.7+ KB\n",
      "<class 'pandas.core.frame.DataFrame'>\n",
      "RangeIndex: 418 entries, 0 to 417\n",
      "Data columns (total 11 columns):\n",
      " #   Column       Non-Null Count  Dtype  \n",
      "---  ------       --------------  -----  \n",
      " 0   PassengerId  418 non-null    int64  \n",
      " 1   Pclass       418 non-null    int64  \n",
      " 2   Name         418 non-null    object \n",
      " 3   Sex          418 non-null    object \n",
      " 4   Age          332 non-null    float64\n",
      " 5   SibSp        418 non-null    int64  \n",
      " 6   Parch        418 non-null    int64  \n",
      " 7   Ticket       418 non-null    object \n",
      " 8   Fare         417 non-null    float64\n",
      " 9   Cabin        91 non-null     object \n",
      " 10  Embarked     418 non-null    object \n",
      "dtypes: float64(2), int64(4), object(5)\n",
      "memory usage: 36.0+ KB\n"
     ]
    }
   ],
   "source": [
    "train.info()\n",
    "test.info()"
   ]
  },
  {
   "cell_type": "code",
   "execution_count": 7,
   "id": "db836438",
   "metadata": {},
   "outputs": [],
   "source": [
    "# Training set consists of 891 data points with 12 columns\n",
    "# There are 11 features and one column with survival status, which are the labels for the data samples\n",
    "# Testing set consists of 418 data points with 11 columns as the survival column is missing\n",
    "# Each of the features are delt individually in the given code"
   ]
  },
  {
   "cell_type": "code",
   "execution_count": 8,
   "id": "8510d42d",
   "metadata": {},
   "outputs": [],
   "source": [
    "# Cabin feature has many missing data points\n",
    "# Hence, it is dropped\n",
    "\n",
    "train.drop(['Cabin'], axis=1, inplace=True)\n",
    "test.drop(['Cabin'], axis=1, inplace=True)"
   ]
  },
  {
   "cell_type": "code",
   "execution_count": 9,
   "id": "353c8858",
   "metadata": {
    "scrolled": true
   },
   "outputs": [
    {
     "data": {
      "image/png": "[encoded data removed]",
      "text/plain": [
       "<Figure size 432x288 with 1 Axes>"
      ]
     },
     "metadata": {
      "needs_background": "light"
     },
     "output_type": "display_data"
    }
   ],
   "source": [
    "# Pclass: passenger class 1 = 1st, 2 = 2nd, 3 = 3rd\n",
    "# There are no missing values and the datatype is integer\n",
    "\n",
    "# Plot showing the Pclass and number of survivors\n",
    "sb.countplot(x='Pclass', hue='Survived', data=train)\n",
    "plt.title('Pclass: Sruvived vs Dead')\n",
    "plt.show()\n",
    "\n",
    "# Plot below shows that the survival status of the passengers depends on the class they belong to. Hence, the feature is retained"
   ]
  },
  {
   "cell_type": "code",
   "execution_count": 10,
   "id": "a19c9b88",
   "metadata": {},
   "outputs": [],
   "source": [
    "# PassengerId\n",
    "# This feature only indicates the number of passengers\n",
    "# Hence, can be dropped\n",
    "train.drop(['PassengerId'], axis=1, inplace=True)"
   ]
  },
  {
   "cell_type": "code",
   "execution_count": 11,
   "id": "266561a3",
   "metadata": {},
   "outputs": [
    {
     "data": {
      "text/plain": [
       "Mr              517\n",
       "Miss            182\n",
       "Mrs             125\n",
       "Master           40\n",
       "Dr                7\n",
       "Rev               6\n",
       "Mlle              2\n",
       "Major             2\n",
       "Col               2\n",
       "the Countess      1\n",
       "Capt              1\n",
       "Ms                1\n",
       "Sir               1\n",
       "Lady              1\n",
       "Mme               1\n",
       "Don               1\n",
       "Jonkheer          1\n",
       "dtype: int64"
      ]
     },
     "execution_count": 11,
     "metadata": {},
     "output_type": "execute_result"
    }
   ],
   "source": [
    "# Name\n",
    "# datatype of the feature is object\n",
    "# Name feature can't be used to train the model. However, titles can be extracted and used for classification.\n",
    "# Titles are placed in between a comma(\", \") and a full stop(\".\")\n",
    "# Use split() to split the string, obtain titles and append it to an empty list \n",
    "\n",
    "titles = []\n",
    "for name in train['Name']:\n",
    "  titles.append(name.split(\", \")[1].split(\".\")[0])\n",
    "  \n",
    "#Count the unique titles using value_counts()\n",
    "pd.Index(titles).value_counts()"
   ]
  },
  {
   "cell_type": "code",
   "execution_count": 12,
   "id": "6203fd04",
   "metadata": {},
   "outputs": [
    {
     "data": {
      "text/plain": [
       "<seaborn.axisgrid.FacetGrid at 0x7f0010b6dcd0>"
      ]
     },
     "execution_count": 12,
     "metadata": {},
     "output_type": "execute_result"
    },
    {
     "data": {
      "image/png": "[encoded data removed]",
      "text/plain": [
       "<Figure size 411.875x360 with 1 Axes>"
      ]
     },
     "metadata": {
      "needs_background": "light"
     },
     "output_type": "display_data"
    }
   ],
   "source": [
    "# Titles : 'Mr' - normal male, 'Miss' - normal unmarried female, 'Mrs' - normal married female, Others - Royalty/Position they hold in the society\n",
    "# Assign ordinal labels as 'Mr' = 0, 'Miss' = 1, 'Mrs' = 2 and the other titles = 3  \n",
    "for i in range(891):\n",
    "  if (titles[i] == 'Mr'):\n",
    "    titles[i] = 0\n",
    "  elif (titles[i] == 'Miss'):\n",
    "    titles[i] = 1\n",
    "  elif (titles[i] == 'Mrs'):\n",
    "    titles[i] = 2\n",
    "  else:\n",
    "    titles[i] = 3\n",
    "\n",
    "# Add a feature 'Title' to the training data and drop the feature 'Name'\n",
    "train['Title'] = titles\n",
    "train.drop(['Name'], axis=1, inplace=True)\n",
    "\n",
    "# Plot the number of survivors based on Titles\n",
    "sb.catplot(x =\"Title\", hue =\"Survived\", kind =\"count\", data = train)\n",
    "\n",
    "# Graph below shows that the survival status of passengers is related to Titles they own. Hence is an important feature"
   ]
  },
  {
   "cell_type": "code",
   "execution_count": 13,
   "id": "e4deb339",
   "metadata": {},
   "outputs": [
    {
     "data": {
      "text/plain": [
       "<AxesSubplot:xlabel='Pclass', ylabel='Age'>"
      ]
     },
     "execution_count": 13,
     "metadata": {},
     "output_type": "execute_result"
    },
    {
     "data": {
      "image/png": "[encoded data removed]",
      "text/plain": [
       "<Figure size 432x288 with 1 Axes>"
      ]
     },
     "metadata": {
      "needs_background": "light"
     },
     "output_type": "display_data"
    }
   ],
   "source": [
    "# Plot to compare Pclass, Age and Sex\n",
    "#sb.catplot(x='Pclass', y='Age', data=train, kind='violin', hue='Sex')\n",
    "sb.boxplot(x='Pclass',y='Age', hue = 'Sex', data=train,palette='Purples')"
   ]
  },
  {
   "cell_type": "code",
   "execution_count": 14,
   "id": "d8ec8da6",
   "metadata": {},
   "outputs": [
    {
     "data": {
      "text/plain": [
       "count    891.000000\n",
       "mean      29.112424\n",
       "std       13.304424\n",
       "min        0.420000\n",
       "25%       21.500000\n",
       "50%       26.000000\n",
       "75%       36.000000\n",
       "max       80.000000\n",
       "Name: Age, dtype: float64"
      ]
     },
     "execution_count": 14,
     "metadata": {},
     "output_type": "execute_result"
    }
   ],
   "source": [
    "# Age\n",
    "# There are only 714 out of 891 total values present, that is 177 missing data points\n",
    "# The null values are filled with median values for age (not mean, as there are outliers)\n",
    "\n",
    "# Above graph shows, median age varies with Pclass and Sex\n",
    "# A more accurate way is by finding median values by grouping passengers based on Pclass and Sex\n",
    "\n",
    "# pandas.dataframe.groupby() is used to group passengers\n",
    "# pandas.dataframe.transform() applies the function (median) specified\n",
    "\n",
    "train[\"Age\"].fillna(train.groupby([\"Sex\",\"Pclass\"])[\"Age\"].transform(\"median\"), inplace=True)\n",
    "\n",
    "train['Age'].describe()"
   ]
  },
  {
   "cell_type": "code",
   "execution_count": 15,
   "id": "9a8aa3ef",
   "metadata": {},
   "outputs": [],
   "source": [
    "# No missing values\n",
    "# Divide the passengers into 4 age groups and associate each of them with an ordinal label\n",
    "age = []\n",
    "for i in range(891):\n",
    "  if (train.Age[i] < 20):\n",
    "    age.append(1)\n",
    "  elif (train.Age[i] < 40):\n",
    "    age.append(2)\n",
    "  elif (train.Age[i] < 60):\n",
    "    age.append(3)\n",
    "  else:\n",
    "    age.append(4)\n",
    "\n",
    "# Update Age feature with the assigned ordinals\n",
    "train['Age'] = age"
   ]
  },
  {
   "cell_type": "code",
   "execution_count": 16,
   "id": "037cb08a",
   "metadata": {},
   "outputs": [
    {
     "data": {
      "text/plain": [
       "<seaborn.axisgrid.FacetGrid at 0x7f00109d3910>"
      ]
     },
     "execution_count": 16,
     "metadata": {},
     "output_type": "execute_result"
    },
    {
     "data": {
      "image/png": "[encoded data removed]",
      "text/plain": [
       "<Figure size 411.875x360 with 1 Axes>"
      ]
     },
     "metadata": {
      "needs_background": "light"
     },
     "output_type": "display_data"
    }
   ],
   "source": [
    "# Sex\n",
    "# This feature is an object\n",
    "# Convert it into numerical values with the object 'male' = 0, 'female' = 2\n",
    "\n",
    "# Initilize an empty list and append feature values to it.\n",
    "gender = []\n",
    "for sex in train['Sex']:\n",
    "  gender.append(sex)\n",
    "\n",
    "# Assign numerical values\n",
    "for i in range(891):\n",
    "  if (gender[i] == 'male'):\n",
    "    gender[i] = 0\n",
    "  elif (gender[i] == 'female'):\n",
    "    gender[i] = 2\n",
    "\n",
    "# Update feature\n",
    "train['Sex'] = gender\n",
    "\n",
    "# Plot number of survivors based on their Sex\n",
    "sb.catplot(x =\"Sex\", hue =\"Survived\", kind =\"count\", data = train)\n",
    "\n",
    "# Graph below shows that suvival rate for males is less and more for females. The feature is thus important."
   ]
  },
  {
   "cell_type": "code",
   "execution_count": 17,
   "id": "082901c3",
   "metadata": {},
   "outputs": [
    {
     "data": {
      "text/plain": [
       "0     537\n",
       "1     161\n",
       "2     102\n",
       "3      29\n",
       "5      22\n",
       "4      15\n",
       "6      12\n",
       "10      7\n",
       "7       6\n",
       "dtype: int64"
      ]
     },
     "execution_count": 17,
     "metadata": {},
     "output_type": "execute_result"
    }
   ],
   "source": [
    "# SibSp: The feature defines family relations in this way\n",
    "# Sibling = brother, sister, stepbrother, stepsister\n",
    "# Spouse = husband, wife (mistresses and fiancés were ignored)\n",
    "\n",
    "# Parch: The dataset defines family relations in this way\n",
    "# Parent = mother, father\n",
    "# Child = daughter, son, stepdaughter, stepson\n",
    "\n",
    "# The above two features can be combined to create a new feature 'Family'\n",
    "family = []\n",
    "\n",
    "for i in range(891):\n",
    "  family.append(train.Parch[i] + train.SibSp[i])\n",
    "\n",
    "pd.Index(family).value_counts()"
   ]
  },
  {
   "cell_type": "code",
   "execution_count": 18,
   "id": "e1ebf2a6",
   "metadata": {},
   "outputs": [
    {
     "data": {
      "text/plain": [
       "<seaborn.axisgrid.FacetGrid at 0x7f0010b6dac0>"
      ]
     },
     "execution_count": 18,
     "metadata": {},
     "output_type": "execute_result"
    },
    {
     "data": {
      "image/png": "[encoded data removed]",
      "text/plain": [
       "<Figure size 411.875x360 with 1 Axes>"
      ]
     },
     "metadata": {
      "needs_background": "light"
     },
     "output_type": "display_data"
    }
   ],
   "source": [
    "# Divide the passengers into 4 groups based on their family members on board and associate each of them with an ordinal\n",
    "for i in range(891):\n",
    "  if (family[i] == '0'):\n",
    "    family[i] == 1\n",
    "  elif (family[i] == '1'):\n",
    "    family[i] == 2\n",
    "  elif (family[i] == '2'):\n",
    "    family[i] == 3\n",
    "  else:\n",
    "    family[i] == 4\n",
    "\n",
    "# Update Family feature with the assigned ordinals\n",
    "train['Family'] = family\n",
    "\n",
    "# Drop the two features\n",
    "train.drop(['SibSp'], axis=1, inplace=True)\n",
    "train.drop(['Parch'], axis=1, inplace=True)\n",
    "\n",
    "# Plot number of survivors based on the number of family members on board\n",
    "sb.catplot(x =\"Family\", hue =\"Survived\", kind =\"count\", data = train)\n",
    "\n",
    "# Graph shows survival status depends on the number of family members of passengers on board. Hence, the feature 'Family' can be used to train the ML model."
   ]
  },
  {
   "cell_type": "code",
   "execution_count": 19,
   "id": "c5eaa362",
   "metadata": {},
   "outputs": [
    {
     "data": {
      "text/plain": [
       "3    301\n",
       "2    183\n",
       "1    146\n",
       "P     65\n",
       "S     65\n",
       "C     47\n",
       "A     29\n",
       "W     13\n",
       "4     10\n",
       "7      9\n",
       "F      7\n",
       "6      6\n",
       "L      4\n",
       "5      3\n",
       "8      2\n",
       "9      1\n",
       "dtype: int64"
      ]
     },
     "execution_count": 19,
     "metadata": {},
     "output_type": "execute_result"
    }
   ],
   "source": [
    "# Ticket: Ticket ID of the passengers. It mix of numeric and alphanumeric data types\n",
    "# Group the passengers based on the first character of the ticket number\n",
    "\n",
    "# Extracting the first characters and append them to an empty list\n",
    "tickets = []\n",
    "for x in train['Ticket']:\n",
    "    tickets.append(x[0])\n",
    "    \n",
    "#Count the unique characters using value_counts()\n",
    "pd.Index(tickets).value_counts()"
   ]
  },
  {
   "cell_type": "code",
   "execution_count": 20,
   "id": "583b15f8",
   "metadata": {},
   "outputs": [
    {
     "data": {
      "text/plain": [
       "<seaborn.axisgrid.FacetGrid at 0x7f0010a3b8b0>"
      ]
     },
     "execution_count": 20,
     "metadata": {},
     "output_type": "execute_result"
    },
    {
     "data": {
      "image/png": "[encoded data removed]",
      "text/plain": [
       "<Figure size 411.875x360 with 1 Axes>"
      ]
     },
     "metadata": {
      "needs_background": "light"
     },
     "output_type": "display_data"
    }
   ],
   "source": [
    "# Maximum number of tickets start with the characters '3', '2', '1' \n",
    "# Passengers are grouped in accordance with the initial character and ordinal numbers are assigned\n",
    "\n",
    "for i in range(891):\n",
    "    if (tickets[i] == '3'):\n",
    "        tickets[i] = 1\n",
    "    elif (tickets[i] == '2'):\n",
    "        tickets[i] = 2\n",
    "    elif (tickets[i] == '1'):\n",
    "        tickets[i] = 3\n",
    "    else:\n",
    "        tickets[i] = 4\n",
    "\n",
    "# Update the 'Ticket' feature\n",
    "train['Ticket'] = tickets\n",
    "\n",
    "# Plot number of survivors based on their Ticket characters\n",
    "sb.catplot(x =\"Ticket\", hue =\"Survived\", kind =\"count\", data = train)\n",
    "\n",
    "# Below graph shows the relation between Ticket and survival. The feature is thus retained"
   ]
  },
  {
   "cell_type": "code",
   "execution_count": 21,
   "id": "c7e802a9",
   "metadata": {
    "scrolled": true
   },
   "outputs": [
    {
     "data": {
      "text/plain": [
       "count    891.000000\n",
       "mean      32.204208\n",
       "std       49.693429\n",
       "min        0.000000\n",
       "25%        7.910400\n",
       "50%       14.454200\n",
       "75%       31.000000\n",
       "max      512.329200\n",
       "Name: Fare, dtype: float64"
      ]
     },
     "execution_count": 21,
     "metadata": {},
     "output_type": "execute_result"
    }
   ],
   "source": [
    "# Fare : The cost of the ticket\n",
    "train['Fare'].describe()"
   ]
  },
  {
   "cell_type": "code",
   "execution_count": 22,
   "id": "cbe478c2",
   "metadata": {},
   "outputs": [
    {
     "data": {
      "text/plain": [
       "<seaborn.axisgrid.FacetGrid at 0x7f0010925250>"
      ]
     },
     "execution_count": 22,
     "metadata": {},
     "output_type": "execute_result"
    },
    {
     "data": {
      "image/png": "[encoded data removed]",
      "text/plain": [
       "<Figure size 411.875x360 with 1 Axes>"
      ]
     },
     "metadata": {
      "needs_background": "light"
     },
     "output_type": "display_data"
    }
   ],
   "source": [
    "# Using the percentile values of Fare from the feature description, passengers can be grouped into 4 groups and be assigned group numbers\n",
    "f = []\n",
    "for i in range(891):\n",
    "  if train.Fare[i] < 8:\n",
    "    f.append(1)\n",
    "  elif train.Fare[i] < 15:\n",
    "    f.append(2)\n",
    "  elif train.Fare[i] < 32: \n",
    "    f.append(3)\n",
    "  else:\n",
    "    f.append(4)\n",
    "\n",
    "# Update Fare feature with ordinal labels \n",
    "train['Fare'] = f\n",
    "\n",
    "# Plot number of survivors based on the ticker fare\n",
    "sb.catplot(x =\"Fare\", hue =\"Survived\", kind =\"count\", data = train)\n",
    "\n",
    "# Below graph shows that Ticket fare and survival are related. It is retained"
   ]
  },
  {
   "cell_type": "code",
   "execution_count": 23,
   "id": "36a1cb53",
   "metadata": {},
   "outputs": [
    {
     "data": {
      "text/plain": [
       "count     889\n",
       "unique      3\n",
       "top         S\n",
       "freq      644\n",
       "Name: Embarked, dtype: object"
      ]
     },
     "execution_count": 23,
     "metadata": {},
     "output_type": "execute_result"
    }
   ],
   "source": [
    "# Embarked : Embarked implies where the traveler mounted from - Southampton, Cherbourg, and Queenstown\n",
    "train['Embarked'].describe()"
   ]
  },
  {
   "cell_type": "code",
   "execution_count": 24,
   "id": "c4843458",
   "metadata": {},
   "outputs": [
    {
     "data": {
      "text/plain": [
       "count     891\n",
       "unique      3\n",
       "top         S\n",
       "freq      646\n",
       "Name: Embarked, dtype: object"
      ]
     },
     "execution_count": 24,
     "metadata": {},
     "output_type": "execute_result"
    }
   ],
   "source": [
    "# There are 2 values missing \n",
    "# They are filled with the most common place, Southampton (taken from feature description)\n",
    "train.Embarked = train.Embarked.fillna('S')\n",
    "\n",
    "train['Embarked'].describe()"
   ]
  },
  {
   "cell_type": "code",
   "execution_count": 25,
   "id": "5985dcac",
   "metadata": {},
   "outputs": [
    {
     "data": {
      "text/plain": [
       "<seaborn.axisgrid.FacetGrid at 0x7f0018c86220>"
      ]
     },
     "execution_count": 25,
     "metadata": {},
     "output_type": "execute_result"
    },
    {
     "data": {
      "image/png": "[encoded data removed]",
      "text/plain": [
       "<Figure size 411.875x360 with 1 Axes>"
      ]
     },
     "metadata": {
      "needs_background": "light"
     },
     "output_type": "display_data"
    }
   ],
   "source": [
    "# No values missing\n",
    "# Assign alphabetical labels with ordinal labels\n",
    "e = []\n",
    "for i in range(891):\n",
    "  if (train.Embarked[i] == 'S'):\n",
    "    e.append(1)\n",
    "  elif (train.Embarked[i] == 'C'):\n",
    "    e.append(2)\n",
    "  elif (train.Embarked[i] == 'Q'):\n",
    "    e.append(3)\n",
    "\n",
    "# Update the feature\n",
    "train['Embarked'] = e\n",
    "\n",
    "# Plot number of survivors based on their place of Embarkation\n",
    "sb.catplot(x =\"Embarked\", hue =\"Survived\", kind =\"count\", data = train)\n",
    "\n",
    "# Below graph shows survival depends on place of Embarkation. The feature is thus retained to for ML modeling."
   ]
  },
  {
   "cell_type": "code",
   "execution_count": 26,
   "id": "c5304ca1",
   "metadata": {},
   "outputs": [
    {
     "data": {
      "text/html": [
       "<div>\n",
       "<style scoped>\n",
       "    .dataframe tbody tr th:only-of-type {\n",
       "        vertical-align: middle;\n",
       "    }\n",
       "\n",
       "    .dataframe tbody tr th {\n",
       "        vertical-align: top;\n",
       "    }\n",
       "\n",
       "    .dataframe thead th {\n",
       "        text-align: right;\n",
       "    }\n",
       "</style>\n",
       "<table border=\"1\" class=\"dataframe\">\n",
       "  <thead>\n",
       "    <tr style=\"text-align: right;\">\n",
       "      <th></th>\n",
       "      <th>Survived</th>\n",
       "      <th>Pclass</th>\n",
       "      <th>Sex</th>\n",
       "      <th>Age</th>\n",
       "      <th>Ticket</th>\n",
       "      <th>Fare</th>\n",
       "      <th>Embarked</th>\n",
       "      <th>Title</th>\n",
       "      <th>Family</th>\n",
       "    </tr>\n",
       "  </thead>\n",
       "  <tbody>\n",
       "    <tr>\n",
       "      <th>0</th>\n",
       "      <td>0</td>\n",
       "      <td>3</td>\n",
       "      <td>0</td>\n",
       "      <td>2</td>\n",
       "      <td>4</td>\n",
       "      <td>1</td>\n",
       "      <td>1</td>\n",
       "      <td>0</td>\n",
       "      <td>1</td>\n",
       "    </tr>\n",
       "    <tr>\n",
       "      <th>1</th>\n",
       "      <td>1</td>\n",
       "      <td>1</td>\n",
       "      <td>2</td>\n",
       "      <td>2</td>\n",
       "      <td>4</td>\n",
       "      <td>4</td>\n",
       "      <td>2</td>\n",
       "      <td>2</td>\n",
       "      <td>1</td>\n",
       "    </tr>\n",
       "    <tr>\n",
       "      <th>2</th>\n",
       "      <td>1</td>\n",
       "      <td>3</td>\n",
       "      <td>2</td>\n",
       "      <td>2</td>\n",
       "      <td>4</td>\n",
       "      <td>1</td>\n",
       "      <td>1</td>\n",
       "      <td>1</td>\n",
       "      <td>0</td>\n",
       "    </tr>\n",
       "    <tr>\n",
       "      <th>3</th>\n",
       "      <td>1</td>\n",
       "      <td>1</td>\n",
       "      <td>2</td>\n",
       "      <td>2</td>\n",
       "      <td>3</td>\n",
       "      <td>4</td>\n",
       "      <td>1</td>\n",
       "      <td>2</td>\n",
       "      <td>1</td>\n",
       "    </tr>\n",
       "    <tr>\n",
       "      <th>4</th>\n",
       "      <td>0</td>\n",
       "      <td>3</td>\n",
       "      <td>0</td>\n",
       "      <td>2</td>\n",
       "      <td>1</td>\n",
       "      <td>2</td>\n",
       "      <td>1</td>\n",
       "      <td>0</td>\n",
       "      <td>0</td>\n",
       "    </tr>\n",
       "  </tbody>\n",
       "</table>\n",
       "</div>"
      ],
      "text/plain": [
       "   Survived  Pclass  Sex  Age  Ticket  Fare  Embarked  Title  Family\n",
       "0         0       3    0    2       4     1         1      0       1\n",
       "1         1       1    2    2       4     4         2      2       1\n",
       "2         1       3    2    2       4     1         1      1       0\n",
       "3         1       1    2    2       3     4         1      2       1\n",
       "4         0       3    0    2       1     2         1      0       0"
      ]
     },
     "execution_count": 26,
     "metadata": {},
     "output_type": "execute_result"
    }
   ],
   "source": [
    "# The feature table after Data cleaning looks like below\n",
    "train.head()"
   ]
  },
  {
   "cell_type": "code",
   "execution_count": 27,
   "id": "cb66b72b",
   "metadata": {},
   "outputs": [
    {
     "name": "stdout",
     "output_type": "stream",
     "text": [
      "[75.98, 80.45, 82.12, 82.12, 83.8, 83.24, 83.24, 83.8, 84.36, 83.8, 84.92, 84.36, 83.8, 84.92, 84.36, 84.36, 83.24, 84.36, 84.36, 84.36, 84.36, 84.36, 84.36, 83.8, 83.8]\n"
     ]
    }
   ],
   "source": [
    "# Using K-Nearest Neighbours approach for classification\n",
    "# Since, the test data has no labels given, the train data is split into test and validation sets to check the accuracy of the model and also find the optimum value of hyperparemeter - K\n",
    "# 'train_test_split’ function is used to split the data\n",
    "X_train, X_val, Y_train, Y_val = train_test_split(train.drop(['Survived'], axis=1), train.Survived,test_size=0.20, random_state=5)\n",
    "accuracy = []\n",
    "x = range(1,26)\n",
    "\n",
    "# The model is trained using 'fit' method on X_train, Y_train\n",
    "# The model is tested using 'predict' on X_test\n",
    "# n_neighbours is the hyperparameter\n",
    "# The model is fit and test on n_neighbours ranging from 1 to 25, accuracy is recorded\n",
    "for i in x:\n",
    "    knn = KNeighborsClassifier(n_neighbors = i) \n",
    "    knn.fit(X_train, Y_train)  \n",
    "    Y_pred = knn.predict(X_val)  \n",
    "    accuracy.append(round(accuracy_score(Y_pred, Y_val) * 100, 2))\n",
    "\n",
    "print(accuracy)"
   ]
  },
  {
   "cell_type": "code",
   "execution_count": 28,
   "id": "58c78880",
   "metadata": {},
   "outputs": [
    {
     "data": {
      "image/png": "[encoded data removed]",
      "text/plain": [
       "<Figure size 432x288 with 1 Axes>"
      ]
     },
     "metadata": {
      "needs_background": "light"
     },
     "output_type": "display_data"
    }
   ],
   "source": [
    "# Plot the accuracy obtained for different values of hyperparameter chosen for the KNN model\n",
    "plt.plot(x,accuracy,'r')\n",
    "plt.xlabel('Hyperparameter(K)')\n",
    "plt.ylabel('Accuracy')\n",
    "plt.title('Variation of accuracy with K')\n",
    "plt.grid(True)\n",
    "plt.show()"
   ]
  },
  {
   "cell_type": "code",
   "execution_count": 29,
   "id": "c7fe4c59",
   "metadata": {},
   "outputs": [],
   "source": [
    "# The optimal hyperparameter is chosen as the one for which the accuracy is maximum\n",
    "K = 11 #(Accuracy = 84.92)"
   ]
  },
  {
   "cell_type": "code",
   "execution_count": 30,
   "id": "853d794d",
   "metadata": {},
   "outputs": [],
   "source": [
    "# Data cleaning and Feature Engineering for the test data\n",
    "# Name\n",
    "titles_test = []\n",
    "for name_test in test['Name']:\n",
    "  titles_test.append(name_test.split(\", \")[1].split(\".\")[0])\n",
    "for i in range(418):\n",
    "  if (titles_test[i] == 'Mr'):\n",
    "    titles_test[i] = 1\n",
    "  elif (titles_test[i] == 'Miss'):\n",
    "    titles_test[i] = 2\n",
    "  elif (titles_test[i] == 'Mrs'):\n",
    "    titles_test[i] = 3\n",
    "  else:\n",
    "    titles_test[i] = 4\n",
    "\n",
    "test['Title'] = titles_test\n",
    "test.drop(['Name'], axis=1, inplace=True)\n",
    "\n",
    "####################################################################\n",
    "\n",
    "# Sex\n",
    "gender_test = []\n",
    "for sex in test['Sex']:\n",
    "  gender_test.append(sex)\n",
    "\n",
    "for i in range(418):\n",
    "  if (gender_test[i] == 'male'):\n",
    "    gender_test[i] = 0\n",
    "  else: \n",
    "    gender_test[i] = 2\n",
    "\n",
    "test['Sex'] = gender_test\n",
    "\n",
    "####################################################################\n",
    "\n",
    "# Age\n",
    "age_test = []\n",
    "for i in range(418):\n",
    "  if (test.Age[i] < 20):\n",
    "    age_test.append(1)\n",
    "  elif (test.Age[i] < 40):\n",
    "    age_test.append(2)\n",
    "  elif (test.Age[i] < 60):\n",
    "    age_test.append(3)\n",
    "  else:\n",
    "    age_test.append(4)\n",
    "\n",
    "test['Age'] = age_test\n",
    "\n",
    "####################################################################\n",
    "\n",
    "# SibSp and Parch\n",
    "family_test = []\n",
    "for i in range(418):\n",
    "  family_test.append(test.Parch[i] + test.SibSp[i])\n",
    "for i in range(418):\n",
    "  if (family_test[i] == 0):\n",
    "    family_test[i] == 1\n",
    "  elif (family_test[i] == 1):\n",
    "    family_test[i] == 2\n",
    "  elif (family_test[i] == 2):\n",
    "    family_test[i] == 3\n",
    "  else:\n",
    "    family_test[i] == 4\n",
    "\n",
    "test['Family'] = family_test\n",
    "\n",
    "test.drop(['SibSp'], axis=1, inplace=True)\n",
    "test.drop(['Parch'], axis=1, inplace=True)\n",
    "\n",
    "####################################################################\n",
    "\n",
    "# Ticket\n",
    "tickets_test = []\n",
    "for x in test['Ticket']:\n",
    "    tickets_test.append(x[0])\n",
    "for i in range(418):\n",
    "    if (tickets_test[i] == '3'):\n",
    "        tickets_test[i] = 1\n",
    "    elif (tickets_test[i] == '2'):\n",
    "        tickets_test[i] = 2\n",
    "    elif (tickets_test[i] == '1'):\n",
    "        tickets_test[i] = 3\n",
    "    else:\n",
    "        tickets_test[i] = 4\n",
    "        \n",
    "test['Ticket'] = tickets_test\n",
    "\n",
    "####################################################################\n",
    "\n",
    "# Fare\n",
    "f_test = []\n",
    "for i in range(418):\n",
    "  if test.Fare[i] < 8:\n",
    "    f_test.append(1)\n",
    "  elif test.Fare[i] < 15:\n",
    "    f_test.append(2)\n",
    "  elif test.Fare[i] < 32: \n",
    "    f_test.append(3)\n",
    "  else:\n",
    "    f_test.append(4)\n",
    "\n",
    "test['Fare'] = f_test\n",
    "\n",
    "####################################################################\n",
    "\n",
    "# Embarked\n",
    "test.Embarked = test.Embarked.fillna('S')\n",
    "e_test = []\n",
    "for i in range(418):\n",
    "  if (test.Embarked[i] == 'S'):\n",
    "    e_test.append(1)\n",
    "  elif (test.Embarked[i] == 'C'):\n",
    "    e_test.append(2)\n",
    "  elif (test.Embarked[i] == 'Q'):\n",
    "    e_test.append(3)\n",
    "\n",
    "\n",
    "test['Embarked'] = e_test"
   ]
  },
  {
   "cell_type": "code",
   "execution_count": 31,
   "id": "e5af31e7",
   "metadata": {
    "scrolled": true
   },
   "outputs": [
    {
     "data": {
      "text/html": [
       "<div>\n",
       "<style scoped>\n",
       "    .dataframe tbody tr th:only-of-type {\n",
       "        vertical-align: middle;\n",
       "    }\n",
       "\n",
       "    .dataframe tbody tr th {\n",
       "        vertical-align: top;\n",
       "    }\n",
       "\n",
       "    .dataframe thead th {\n",
       "        text-align: right;\n",
       "    }\n",
       "</style>\n",
       "<table border=\"1\" class=\"dataframe\">\n",
       "  <thead>\n",
       "    <tr style=\"text-align: right;\">\n",
       "      <th></th>\n",
       "      <th>PassengerId</th>\n",
       "      <th>Pclass</th>\n",
       "      <th>Sex</th>\n",
       "      <th>Age</th>\n",
       "      <th>Ticket</th>\n",
       "      <th>Fare</th>\n",
       "      <th>Embarked</th>\n",
       "      <th>Title</th>\n",
       "      <th>Family</th>\n",
       "    </tr>\n",
       "  </thead>\n",
       "  <tbody>\n",
       "    <tr>\n",
       "      <th>0</th>\n",
       "      <td>892</td>\n",
       "      <td>3</td>\n",
       "      <td>0</td>\n",
       "      <td>2</td>\n",
       "      <td>1</td>\n",
       "      <td>1</td>\n",
       "      <td>3</td>\n",
       "      <td>1</td>\n",
       "      <td>0</td>\n",
       "    </tr>\n",
       "    <tr>\n",
       "      <th>1</th>\n",
       "      <td>893</td>\n",
       "      <td>3</td>\n",
       "      <td>2</td>\n",
       "      <td>3</td>\n",
       "      <td>1</td>\n",
       "      <td>1</td>\n",
       "      <td>1</td>\n",
       "      <td>3</td>\n",
       "      <td>1</td>\n",
       "    </tr>\n",
       "    <tr>\n",
       "      <th>2</th>\n",
       "      <td>894</td>\n",
       "      <td>2</td>\n",
       "      <td>0</td>\n",
       "      <td>4</td>\n",
       "      <td>2</td>\n",
       "      <td>2</td>\n",
       "      <td>3</td>\n",
       "      <td>1</td>\n",
       "      <td>0</td>\n",
       "    </tr>\n",
       "    <tr>\n",
       "      <th>3</th>\n",
       "      <td>895</td>\n",
       "      <td>3</td>\n",
       "      <td>0</td>\n",
       "      <td>2</td>\n",
       "      <td>1</td>\n",
       "      <td>2</td>\n",
       "      <td>1</td>\n",
       "      <td>1</td>\n",
       "      <td>0</td>\n",
       "    </tr>\n",
       "    <tr>\n",
       "      <th>4</th>\n",
       "      <td>896</td>\n",
       "      <td>3</td>\n",
       "      <td>2</td>\n",
       "      <td>2</td>\n",
       "      <td>1</td>\n",
       "      <td>2</td>\n",
       "      <td>1</td>\n",
       "      <td>3</td>\n",
       "      <td>2</td>\n",
       "    </tr>\n",
       "  </tbody>\n",
       "</table>\n",
       "</div>"
      ],
      "text/plain": [
       "   PassengerId  Pclass  Sex  Age  Ticket  Fare  Embarked  Title  Family\n",
       "0          892       3    0    2       1     1         3      1       0\n",
       "1          893       3    2    3       1     1         1      3       1\n",
       "2          894       2    0    4       2     2         3      1       0\n",
       "3          895       3    0    2       1     2         1      1       0\n",
       "4          896       3    2    2       1     2         1      3       2"
      ]
     },
     "execution_count": 31,
     "metadata": {},
     "output_type": "execute_result"
    }
   ],
   "source": [
    "# The feature table after Data Processing looks like below\n",
    "test.head()"
   ]
  },
  {
   "cell_type": "code",
   "execution_count": 32,
   "id": "dc464a7f",
   "metadata": {},
   "outputs": [],
   "source": [
    "# Use KNN to predict the survival status of the passengers in the test data\n",
    "# Hyperparameter is chosen from above graph, that which had the highest accuracy on training data\n",
    "# The 'fit' data is the train data \n",
    "# The 'predict' data is the test data with the PassengerId dropped\n",
    "knn = KNeighborsClassifier(n_neighbors = K) \n",
    "knn.fit(train.drop(['Survived'], axis=1), train['Survived'])  \n",
    "survived_pred = knn.predict(test.drop(['PassengerId'], axis=1))  "
   ]
  },
  {
   "cell_type": "code",
   "execution_count": 33,
   "id": "1f3c7aee",
   "metadata": {},
   "outputs": [],
   "source": [
    "# Predicted survival status of the passengers of the test data given against PassengerId\n",
    "Output = pd.DataFrame({\n",
    "        \"PassengerId\": test[\"PassengerId\"],\n",
    "        \"Survived\": survived_pred})"
   ]
  },
  {
   "cell_type": "code",
   "execution_count": 34,
   "id": "8748a31c",
   "metadata": {},
   "outputs": [
    {
     "data": {
      "text/html": [
       "<div>\n",
       "<style scoped>\n",
       "    .dataframe tbody tr th:only-of-type {\n",
       "        vertical-align: middle;\n",
       "    }\n",
       "\n",
       "    .dataframe tbody tr th {\n",
       "        vertical-align: top;\n",
       "    }\n",
       "\n",
       "    .dataframe thead th {\n",
       "        text-align: right;\n",
       "    }\n",
       "</style>\n",
       "<table border=\"1\" class=\"dataframe\">\n",
       "  <thead>\n",
       "    <tr style=\"text-align: right;\">\n",
       "      <th></th>\n",
       "      <th>PassengerId</th>\n",
       "      <th>Survived</th>\n",
       "    </tr>\n",
       "  </thead>\n",
       "  <tbody>\n",
       "    <tr>\n",
       "      <th>0</th>\n",
       "      <td>892</td>\n",
       "      <td>0</td>\n",
       "    </tr>\n",
       "    <tr>\n",
       "      <th>1</th>\n",
       "      <td>893</td>\n",
       "      <td>0</td>\n",
       "    </tr>\n",
       "    <tr>\n",
       "      <th>2</th>\n",
       "      <td>894</td>\n",
       "      <td>0</td>\n",
       "    </tr>\n",
       "    <tr>\n",
       "      <th>3</th>\n",
       "      <td>895</td>\n",
       "      <td>0</td>\n",
       "    </tr>\n",
       "    <tr>\n",
       "      <th>4</th>\n",
       "      <td>896</td>\n",
       "      <td>1</td>\n",
       "    </tr>\n",
       "    <tr>\n",
       "      <th>...</th>\n",
       "      <td>...</td>\n",
       "      <td>...</td>\n",
       "    </tr>\n",
       "    <tr>\n",
       "      <th>413</th>\n",
       "      <td>1305</td>\n",
       "      <td>0</td>\n",
       "    </tr>\n",
       "    <tr>\n",
       "      <th>414</th>\n",
       "      <td>1306</td>\n",
       "      <td>1</td>\n",
       "    </tr>\n",
       "    <tr>\n",
       "      <th>415</th>\n",
       "      <td>1307</td>\n",
       "      <td>0</td>\n",
       "    </tr>\n",
       "    <tr>\n",
       "      <th>416</th>\n",
       "      <td>1308</td>\n",
       "      <td>0</td>\n",
       "    </tr>\n",
       "    <tr>\n",
       "      <th>417</th>\n",
       "      <td>1309</td>\n",
       "      <td>0</td>\n",
       "    </tr>\n",
       "  </tbody>\n",
       "</table>\n",
       "<p>418 rows × 2 columns</p>\n",
       "</div>"
      ],
      "text/plain": [
       "     PassengerId  Survived\n",
       "0            892         0\n",
       "1            893         0\n",
       "2            894         0\n",
       "3            895         0\n",
       "4            896         1\n",
       "..           ...       ...\n",
       "413         1305         0\n",
       "414         1306         1\n",
       "415         1307         0\n",
       "416         1308         0\n",
       "417         1309         0\n",
       "\n",
       "[418 rows x 2 columns]"
      ]
     },
     "execution_count": 34,
     "metadata": {},
     "output_type": "execute_result"
    }
   ],
   "source": [
    "Output"
   ]
  },
  {
   "cell_type": "code",
   "execution_count": 35,
   "id": "c0ebb7c0",
   "metadata": {},
   "outputs": [],
   "source": [
    "Output.to_csv('titanic_submission.csv', index = False)"
   ]
  }
 ],
 "metadata": {
  "kernelspec": {
   "display_name": "Python 3",
   "language": "python",
   "name": "python3"
  },
  "language_info": {
   "codemirror_mode": {
    "name": "ipython",
    "version": 3
   },
   "file_extension": ".py",
   "mimetype": "text/x-python",
   "name": "python",
   "nbconvert_exporter": "python",
   "pygments_lexer": "ipython3",
   "version": "3.9.5"
  }
 },
 "nbformat": 4,
 "nbformat_minor": 5
}
